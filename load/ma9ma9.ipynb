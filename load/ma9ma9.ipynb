{
 "cells": [
  {
   "cell_type": "code",
   "execution_count": 5,
   "metadata": {},
   "outputs": [],
   "source": [
    "import cv2\n",
    "import numpy as np\n",
    "import pytesseract\n",
    "from PIL import Image\n",
    "\n",
    "# openCV를 통해 한글 파일명으로 저장하는 것을 습득하지 못하여 다소 번거로운 과정이 포함되어있음."
   ]
  },
  {
   "cell_type": "code",
   "execution_count": 12,
   "metadata": {},
   "outputs": [],
   "source": [
    "# 마구마구 게임 내 도감 스크린샷을 불러온 뒤 좌표를 이용하여 카드의 위치, 크기에 대해 입력 (단순 입력)\n",
    "x_start = [509, 633, 757, 881, 1005, 1129, 1253]\n",
    "y_start = [205, 373, 541, 709]\n",
    "img = Image.open('2014.png')\n",
    "char = 1\n",
    "area2 = (20, 141, 100, 160)\n",
    "\n",
    "# for 문을 통해 최대 28장의 카드를 모두 잘라내어 카드 선수 연도 및 이름으로 저장을 시도\n",
    "for i in x_start:\n",
    "    for j in y_start:\n",
    "        try:\n",
    "            area = (i,j,i+118,j+162)\n",
    "            cropped_img = img.crop(area)\n",
    "            dst = cropped_img.crop(area2)\n",
    "            result = pytesseract.image_to_string(dst, lang='kor')\n",
    "            \n",
    "            # 1차시도 // tesseract OCR을 통해 카드에 쓰여진 연도와 선수 이름을 인식 시도\n",
    "            if result != '':\n",
    "                name = '%s.png' % result\n",
    "                cropped_img.save(name)\n",
    "                \n",
    "            else:\n",
    "                name = '14 '+str(char)+'.png'\n",
    "                dst.save(name)\n",
    "                cv2_img = cv2.imread(name)\n",
    "                gray = cv2.cvtColor(cv2_img, cv2.COLOR_BGR2GRAY)\n",
    "                result = pytesseract.image_to_string(gray, lang='kor')\n",
    "                \n",
    "                # 2차시도 // 인식률을 높이기 위해 이미지를 흑백화\n",
    "                if result != '':\n",
    "                    name = '%s.png' % result\n",
    "                    cropped_img.save(name)\n",
    "                    \n",
    "                else:\n",
    "                    gray.save(name)\n",
    "                    cv2_img = cv2.imread(name)\n",
    "\n",
    "                    structuringElement = cv2.getStructuringElement(cv2.MORPH_RECT, (3, 3))\n",
    "                    imgTopHat = cv2.morphologyEx(gray, cv2.MORPH_TOPHAT, structuringElement)\n",
    "                    imgBlackHat = cv2.morphologyEx(gray, cv2.MORPH_BLACKHAT, structuringElement)\n",
    "                    imgGrayscalePlusTopHat = cv2.add(gray, imgTopHat)\n",
    "                    gray = cv2.subtract(imgGrayscalePlusTopHat, imgBlackHat)\n",
    "                    result = pytesseract.image_to_string(gray, lang='kor')\n",
    "                    \n",
    "                    # 3차시도 // 인식률을 더 높임\n",
    "                    if result != '':\n",
    "                        name = '%s.png' % result\n",
    "                        cropped_img.save(name)\n",
    "                        \n",
    "                    else:\n",
    "                        cropped_img.save(name)\n",
    "                        char = char + 1\n",
    "                        \n",
    "        # 인식을 모두 실패하거나 오류가 발생할 경우, 연도로만 자동 저장 후 수동으로 이름을 설정\n",
    "        except:\n",
    "            cropped_img.save('14 '+str(char)+'.png')\n",
    "            char = char + 1\n"
   ]
  },
  {
   "cell_type": "code",
   "execution_count": null,
   "metadata": {},
   "outputs": [],
   "source": []
  }
 ],
 "metadata": {
  "kernelspec": {
   "display_name": "Python 3",
   "language": "python",
   "name": "python3"
  },
  "language_info": {
   "codemirror_mode": {
    "name": "ipython",
    "version": 3
   },
   "file_extension": ".py",
   "mimetype": "text/x-python",
   "name": "python",
   "nbconvert_exporter": "python",
   "pygments_lexer": "ipython3",
   "version": "3.7.6"
  }
 },
 "nbformat": 4,
 "nbformat_minor": 4
}
